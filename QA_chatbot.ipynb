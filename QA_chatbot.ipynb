{
  "nbformat": 4,
  "nbformat_minor": 0,
  "metadata": {
    "colab": {
      "name": "QA-chatbot.ipynb",
      "provenance": [],
      "collapsed_sections": []
    },
    "kernelspec": {
      "name": "python3",
      "display_name": "Python 3"
    }
  },
  "cells": [
    {
      "cell_type": "code",
      "metadata": {
        "id": "z_QPHmQkRJkw"
      },
      "source": [
        "import pandas as pd\n",
        "import numpy as np\n",
        "import pickle\n",
        "from keras.preprocessing.text import Tokenizer\n",
        "from keras.preprocessing.sequence import pad_sequences\n",
        "from keras.utils import to_categorical"
      ],
      "execution_count": 40,
      "outputs": []
    },
    {
      "cell_type": "code",
      "metadata": {
        "id": "mQl8wli6RsB2"
      },
      "source": [
        "with open('train_qa.txt', 'rb') as fp:\n",
        "    train_data = pickle.load(fp)\n",
        "    fp.close()\n",
        "with open('test_qa.txt', 'rb') as fp:\n",
        "    test_data = pickle.load(fp)\n",
        "    fp.close()"
      ],
      "execution_count": 4,
      "outputs": []
    },
    {
      "cell_type": "code",
      "metadata": {
        "id": "IjmsTAoCTpe2"
      },
      "source": [
        "questions = []\n",
        "sentences = []\n",
        "answers = []\n",
        "for sentence, question, answer in train_data:\n",
        "    questions.append(question)\n",
        "    sentences.append(sentence)\n",
        "    answers.append(answer)\n",
        "df = pd.DataFrame({\n",
        "    'sentences': sentences, \n",
        "    'questions': questions, \n",
        "    'answers': answers\n",
        "})"
      ],
      "execution_count": 16,
      "outputs": []
    },
    {
      "cell_type": "code",
      "metadata": {
        "id": "m8wYPQvTVLmE"
      },
      "source": [
        "tokenizer = Tokenizer()\n",
        "tokenizer.fit_on_texts(df['sentences'])\n",
        "tokenizer.fit_on_texts(df['questions'])\n",
        "tokenizer.fit_on_texts(df['answers'])"
      ],
      "execution_count": 19,
      "outputs": []
    },
    {
      "cell_type": "code",
      "metadata": {
        "id": "429GbNPFZEhc"
      },
      "source": [
        "vocab_size = len(tokenizer.word_index)"
      ],
      "execution_count": 30,
      "outputs": []
    },
    {
      "cell_type": "code",
      "metadata": {
        "id": "Vuz6S9vSZnqd"
      },
      "source": [
        "questions = []\n",
        "sentences = []\n",
        "answers = []\n",
        "for sentence, question, answer in test_data:\n",
        "    questions.append(question)\n",
        "    sentences.append(sentence)\n",
        "    answers.append(answer)\n",
        "test_df = pd.DataFrame({\n",
        "    'sentences': sentences, \n",
        "    'questions': questions, \n",
        "    'answers': answers\n",
        "})"
      ],
      "execution_count": 31,
      "outputs": []
    },
    {
      "cell_type": "code",
      "metadata": {
        "id": "GPnLaX4EZ1YR"
      },
      "source": [
        "max_sentence_len = max([len(item) for item in df['sentences'].tolist()] + \n",
        "                       [len(item) for item in test_df['sentences'].tolist()])\n",
        "\n",
        "max_question_len = max([len(item) for item in df['questions'].tolist()] + \n",
        "                       [len(item) for item in test_df['questions'].tolist()])"
      ],
      "execution_count": 58,
      "outputs": []
    },
    {
      "cell_type": "code",
      "metadata": {
        "colab": {
          "base_uri": "https://localhost:8080/"
        },
        "id": "2lQdIWb2bt_Q",
        "outputId": "957ab59f-9739-42eb-8b1b-690abb8d030e"
      },
      "source": [
        "print('max sentence length: {}'.format(max_sentence_len))\n",
        "print('max question length: {}'.format(max_question_len))"
      ],
      "execution_count": 59,
      "outputs": [
        {
          "output_type": "stream",
          "text": [
            "max sentence length: 156\n",
            "max question length: 6\n"
          ],
          "name": "stdout"
        }
      ]
    },
    {
      "cell_type": "code",
      "metadata": {
        "id": "q6cbM5fvdt0u"
      },
      "source": [
        "sentences_tokens = df['sentences'].apply(lambda x: [tokenizer.word_index[word.lower()] for word in x])\n",
        "test_sentences_tokens = test_df['sentences'].apply(lambda x: [tokenizer.word_index[word.lower()] for word in x])\n",
        "questions_tokens = df['questions'].apply(lambda x: [tokenizer.word_index[word.lower()] for word in x])\n",
        "test_questions_tokens = test_df['questions'].apply(lambda x: [tokenizer.word_index[word.lower()] for word in x])"
      ],
      "execution_count": 141,
      "outputs": []
    },
    {
      "cell_type": "code",
      "metadata": {
        "id": "AFejkcW6nF2B"
      },
      "source": [
        "padded_sentences = pad_sequences(sentences_tokens, maxlen = max_sentence_len, padding='post')\n",
        "test_padded_sentences = pad_sequences(test_sentences_tokens, maxlen = max_sentence_len, padding='post')\n",
        "padded_questions = pad_sequences(questions_tokens, maxlen = max_question_len, padding='post')\n",
        "test_padded_questions = pad_sequences(test_questions_tokens, maxlen = max_question_len, padding='post')"
      ],
      "execution_count": 142,
      "outputs": []
    },
    {
      "cell_type": "code",
      "metadata": {
        "colab": {
          "base_uri": "https://localhost:8080/"
        },
        "id": "5huGxg9NnSY8",
        "outputId": "97404977-c321-4512-b295-d5ade6edfcc7"
      },
      "source": [
        "padded_sentences.shape, padded_questions.shape"
      ],
      "execution_count": 143,
      "outputs": [
        {
          "output_type": "execute_result",
          "data": {
            "text/plain": [
              "((10000, 156), (10000, 6))"
            ]
          },
          "metadata": {
            "tags": []
          },
          "execution_count": 143
        }
      ]
    },
    {
      "cell_type": "code",
      "metadata": {
        "colab": {
          "base_uri": "https://localhost:8080/"
        },
        "id": "zxWw8txM3Jex",
        "outputId": "50a38729-c5f3-402d-e419-31e9320153e2"
      },
      "source": [
        "test_padded_sentences.shape, test_padded_questions.shape"
      ],
      "execution_count": 190,
      "outputs": [
        {
          "output_type": "execute_result",
          "data": {
            "text/plain": [
              "((1000, 156), (1000, 6))"
            ]
          },
          "metadata": {
            "tags": []
          },
          "execution_count": 190
        }
      ]
    },
    {
      "cell_type": "code",
      "metadata": {
        "id": "myqxxY7b0U4A"
      },
      "source": [
        "train_answers = pd.get_dummies(df['answers'])\n",
        "test_answers = pd.get_dummies(test_df['answers'])"
      ],
      "execution_count": 191,
      "outputs": []
    },
    {
      "cell_type": "code",
      "metadata": {
        "colab": {
          "base_uri": "https://localhost:8080/"
        },
        "id": "fOSKYzOG3Pbl",
        "outputId": "a9a837b6-c5cc-41ff-b4b7-4b9e8853819c"
      },
      "source": [
        "train_answers.shape"
      ],
      "execution_count": 192,
      "outputs": [
        {
          "output_type": "execute_result",
          "data": {
            "text/plain": [
              "(10000, 2)"
            ]
          },
          "metadata": {
            "tags": []
          },
          "execution_count": 192
        }
      ]
    },
    {
      "cell_type": "code",
      "metadata": {
        "colab": {
          "base_uri": "https://localhost:8080/"
        },
        "id": "CS1jRdpd3RlC",
        "outputId": "e6a547f5-6f7b-42f7-e71e-6c0d3a8321f8"
      },
      "source": [
        "test_answers.shape"
      ],
      "execution_count": 193,
      "outputs": [
        {
          "output_type": "execute_result",
          "data": {
            "text/plain": [
              "(1000, 2)"
            ]
          },
          "metadata": {
            "tags": []
          },
          "execution_count": 193
        }
      ]
    },
    {
      "cell_type": "code",
      "metadata": {
        "id": "5mzw8LWFrXnp"
      },
      "source": [
        "from keras.models import Sequential, Model\n",
        "from keras.layers.embeddings import Embedding\n",
        "from keras.layers import Input, Activation, Dense, Permute, Dropout, add, dot, concatenate, LSTM, Multiply"
      ],
      "execution_count": 308,
      "outputs": []
    },
    {
      "cell_type": "code",
      "metadata": {
        "id": "7gR-GBT9sbH-"
      },
      "source": [
        "input_sequence = Input((max_sentence_len,)) #As we dont know batch size yet\n",
        "input_question = Input((max_question_len,))"
      ],
      "execution_count": 309,
      "outputs": []
    },
    {
      "cell_type": "code",
      "metadata": {
        "id": "5MuXItwKsjIB"
      },
      "source": [
        "input_encoder_m = Sequential()\n",
        "input_encoder_m.add(Embedding(input_dim=vocab_size + 1, output_dim = 64, input_length=max_sentence_len)) #From paper\n",
        "input_encoder_m.add(Dropout(0.3))"
      ],
      "execution_count": 310,
      "outputs": []
    },
    {
      "cell_type": "code",
      "metadata": {
        "id": "klCvOosmtbJd"
      },
      "source": [
        "input_encoder_c = Sequential()\n",
        "input_encoder_c.add(Embedding(input_dim=vocab_size + 1, output_dim = max_question_len, input_length=max_sentence_len)) #From paper\n",
        "input_encoder_c.add(Dropout(0.3))"
      ],
      "execution_count": 311,
      "outputs": []
    },
    {
      "cell_type": "code",
      "metadata": {
        "id": "YfVfkBBitwwV"
      },
      "source": [
        "question_encoder = Sequential()\n",
        "question_encoder.add(Embedding(input_dim=vocab_size + 1, output_dim = 64, input_length=max_question_len)) #From paper\n",
        "question_encoder.add(Dropout(0.3))"
      ],
      "execution_count": 312,
      "outputs": []
    },
    {
      "cell_type": "code",
      "metadata": {
        "id": "KS2IEmz9uguy"
      },
      "source": [
        "input_encoded_m = input_encoder_m(input_sequence)\n",
        "input_encoded_c = input_encoder_c(input_sequence)\n",
        "question_encoded = question_encoder(input_question)"
      ],
      "execution_count": 313,
      "outputs": []
    },
    {
      "cell_type": "code",
      "metadata": {
        "colab": {
          "base_uri": "https://localhost:8080/"
        },
        "id": "Wlbg4Oriu8Z0",
        "outputId": "39508da9-a9a3-427b-a7ee-92e558fb252b"
      },
      "source": [
        "input_encoded_m.shape, input_encoded_c.shape, question_encoded.shape"
      ],
      "execution_count": 314,
      "outputs": [
        {
          "output_type": "execute_result",
          "data": {
            "text/plain": [
              "(TensorShape([None, 156, 64]),\n",
              " TensorShape([None, 156, 6]),\n",
              " TensorShape([None, 6, 64]))"
            ]
          },
          "metadata": {
            "tags": []
          },
          "execution_count": 314
        }
      ]
    },
    {
      "cell_type": "code",
      "metadata": {
        "id": "Nnmd2dHeumMb"
      },
      "source": [
        "match = dot([input_encoded_m, question_encoded], axes = (2,2))\n",
        "match = Activation('softmax')(match)"
      ],
      "execution_count": 315,
      "outputs": []
    },
    {
      "cell_type": "code",
      "metadata": {
        "id": "rh_LINx1w0kr"
      },
      "source": [
        "response = Multiply()([match, input_encoded_c])\n",
        "response = Permute((2,1))(response) #Permute Layer: permutes dimensions of input"
      ],
      "execution_count": 319,
      "outputs": []
    },
    {
      "cell_type": "code",
      "metadata": {
        "colab": {
          "base_uri": "https://localhost:8080/"
        },
        "id": "9mlUCbONymXx",
        "outputId": "434252e2-e0e8-41a2-9bb2-d282ee1d1eb0"
      },
      "source": [
        "response.shape"
      ],
      "execution_count": 320,
      "outputs": [
        {
          "output_type": "execute_result",
          "data": {
            "text/plain": [
              "TensorShape([None, 6, 156])"
            ]
          },
          "metadata": {
            "tags": []
          },
          "execution_count": 320
        }
      ]
    },
    {
      "cell_type": "code",
      "metadata": {
        "id": "7F21SRYGzHAG"
      },
      "source": [
        "answer = concatenate([response, question_encoded])"
      ],
      "execution_count": 321,
      "outputs": []
    },
    {
      "cell_type": "code",
      "metadata": {
        "colab": {
          "base_uri": "https://localhost:8080/"
        },
        "id": "aNiBzRN_zIqc",
        "outputId": "b36bf410-2a14-4152-f297-796a27fe03e2"
      },
      "source": [
        "answer.shape"
      ],
      "execution_count": 322,
      "outputs": [
        {
          "output_type": "execute_result",
          "data": {
            "text/plain": [
              "TensorShape([None, 6, 220])"
            ]
          },
          "metadata": {
            "tags": []
          },
          "execution_count": 322
        }
      ]
    },
    {
      "cell_type": "code",
      "metadata": {
        "id": "lQYvU2rY1b0y"
      },
      "source": [
        "answer = LSTM(32)(answer)"
      ],
      "execution_count": 323,
      "outputs": []
    },
    {
      "cell_type": "code",
      "metadata": {
        "id": "JTBRjL2B1dtH"
      },
      "source": [
        "answer = Dropout(0.5)(answer)"
      ],
      "execution_count": 324,
      "outputs": []
    },
    {
      "cell_type": "code",
      "metadata": {
        "id": "yDrQCRIh1ltL"
      },
      "source": [
        "answer = Dense(2)(answer) #Output shape: (Samples, Vocab_size) #Yes or no and all 0s"
      ],
      "execution_count": 325,
      "outputs": []
    },
    {
      "cell_type": "code",
      "metadata": {
        "id": "THlm5y_u1fpP"
      },
      "source": [
        "answer = Activation('softmax')(answer)"
      ],
      "execution_count": 326,
      "outputs": []
    },
    {
      "cell_type": "code",
      "metadata": {
        "id": "BZA05YzBzPGa"
      },
      "source": [
        "model = Model([input_sequence, input_question], answer)"
      ],
      "execution_count": 327,
      "outputs": []
    },
    {
      "cell_type": "code",
      "metadata": {
        "id": "o8RNmkXtzkIW"
      },
      "source": [
        "model.compile(optimizer='rmsprop', loss = 'categorical_crossentropy', metrics = ['accuracy'])"
      ],
      "execution_count": 328,
      "outputs": []
    },
    {
      "cell_type": "code",
      "metadata": {
        "colab": {
          "base_uri": "https://localhost:8080/"
        },
        "id": "4Q1AxsoPzllT",
        "outputId": "682ba15f-5a87-4f87-ab52-be78917fc086"
      },
      "source": [
        "model.summary()"
      ],
      "execution_count": 329,
      "outputs": [
        {
          "output_type": "stream",
          "text": [
            "Model: \"model_9\"\n",
            "__________________________________________________________________________________________________\n",
            "Layer (type)                    Output Shape         Param #     Connected to                     \n",
            "==================================================================================================\n",
            "input_18 (InputLayer)           [(None, 156)]        0                                            \n",
            "__________________________________________________________________________________________________\n",
            "input_19 (InputLayer)           [(None, 6)]          0                                            \n",
            "__________________________________________________________________________________________________\n",
            "sequential_21 (Sequential)      (None, 156, 64)      2432        input_18[0][0]                   \n",
            "__________________________________________________________________________________________________\n",
            "sequential_23 (Sequential)      (None, 6, 64)        2432        input_19[0][0]                   \n",
            "__________________________________________________________________________________________________\n",
            "dot_7 (Dot)                     (None, 156, 6)       0           sequential_21[0][0]              \n",
            "                                                                 sequential_23[0][0]              \n",
            "__________________________________________________________________________________________________\n",
            "activation_15 (Activation)      (None, 156, 6)       0           dot_7[0][0]                      \n",
            "__________________________________________________________________________________________________\n",
            "sequential_22 (Sequential)      (None, 156, 6)       228         input_18[0][0]                   \n",
            "__________________________________________________________________________________________________\n",
            "multiply_7 (Multiply)           (None, 156, 6)       0           activation_15[0][0]              \n",
            "                                                                 sequential_22[0][0]              \n",
            "__________________________________________________________________________________________________\n",
            "permute_5 (Permute)             (None, 6, 156)       0           multiply_7[0][0]                 \n",
            "__________________________________________________________________________________________________\n",
            "concatenate_9 (Concatenate)     (None, 6, 220)       0           permute_5[0][0]                  \n",
            "                                                                 sequential_23[0][0]              \n",
            "__________________________________________________________________________________________________\n",
            "lstm_8 (LSTM)                   (None, 32)           32384       concatenate_9[0][0]              \n",
            "__________________________________________________________________________________________________\n",
            "dropout_31 (Dropout)            (None, 32)           0           lstm_8[0][0]                     \n",
            "__________________________________________________________________________________________________\n",
            "dense_11 (Dense)                (None, 2)            66          dropout_31[0][0]                 \n",
            "__________________________________________________________________________________________________\n",
            "activation_16 (Activation)      (None, 2)            0           dense_11[0][0]                   \n",
            "==================================================================================================\n",
            "Total params: 37,542\n",
            "Trainable params: 37,542\n",
            "Non-trainable params: 0\n",
            "__________________________________________________________________________________________________\n"
          ],
          "name": "stdout"
        }
      ]
    },
    {
      "cell_type": "code",
      "metadata": {
        "colab": {
          "base_uri": "https://localhost:8080/"
        },
        "id": "rqIHjPPEzqc3",
        "outputId": "ce571425-1668-4ba3-fcf5-542d61434ef7"
      },
      "source": [
        "history = model.fit(\n",
        "    [\n",
        "     padded_sentences,\n",
        "     padded_questions\n",
        "    ],\n",
        "    train_answers, \n",
        "    batch_size = 32, \n",
        "    epochs = 100, \n",
        "    validation_data = ([test_padded_sentences, test_padded_questions], test_answers)\n",
        "    )"
      ],
      "execution_count": 330,
      "outputs": [
        {
          "output_type": "stream",
          "text": [
            "Epoch 1/100\n",
            "313/313 [==============================] - 7s 16ms/step - loss: 0.6940 - accuracy: 0.4777 - val_loss: 0.6937 - val_accuracy: 0.5030\n",
            "Epoch 2/100\n",
            "313/313 [==============================] - 5s 15ms/step - loss: 0.6936 - accuracy: 0.5020 - val_loss: 0.6942 - val_accuracy: 0.5030\n",
            "Epoch 3/100\n",
            "313/313 [==============================] - 5s 15ms/step - loss: 0.6935 - accuracy: 0.5012 - val_loss: 0.6943 - val_accuracy: 0.5060\n",
            "Epoch 4/100\n",
            "313/313 [==============================] - 5s 15ms/step - loss: 0.6924 - accuracy: 0.5231 - val_loss: 0.6945 - val_accuracy: 0.5040\n",
            "Epoch 5/100\n",
            "313/313 [==============================] - 5s 14ms/step - loss: 0.6923 - accuracy: 0.5127 - val_loss: 0.6946 - val_accuracy: 0.4850\n",
            "Epoch 6/100\n",
            "313/313 [==============================] - 5s 14ms/step - loss: 0.6923 - accuracy: 0.5104 - val_loss: 0.6952 - val_accuracy: 0.4800\n",
            "Epoch 7/100\n",
            "313/313 [==============================] - 5s 14ms/step - loss: 0.6911 - accuracy: 0.5239 - val_loss: 0.6945 - val_accuracy: 0.4840\n",
            "Epoch 8/100\n",
            "313/313 [==============================] - 5s 14ms/step - loss: 0.6916 - accuracy: 0.5242 - val_loss: 0.6953 - val_accuracy: 0.5040\n",
            "Epoch 9/100\n",
            "313/313 [==============================] - 4s 14ms/step - loss: 0.6898 - accuracy: 0.5370 - val_loss: 0.6947 - val_accuracy: 0.5030\n",
            "Epoch 10/100\n",
            "313/313 [==============================] - 4s 14ms/step - loss: 0.6891 - accuracy: 0.5396 - val_loss: 0.6951 - val_accuracy: 0.5000\n",
            "Epoch 11/100\n",
            "313/313 [==============================] - 4s 14ms/step - loss: 0.6908 - accuracy: 0.5271 - val_loss: 0.6959 - val_accuracy: 0.5020\n",
            "Epoch 12/100\n",
            "313/313 [==============================] - 4s 14ms/step - loss: 0.6908 - accuracy: 0.5319 - val_loss: 0.6966 - val_accuracy: 0.4890\n",
            "Epoch 13/100\n",
            "313/313 [==============================] - 4s 14ms/step - loss: 0.6899 - accuracy: 0.5398 - val_loss: 0.6951 - val_accuracy: 0.4960\n",
            "Epoch 14/100\n",
            "313/313 [==============================] - 5s 14ms/step - loss: 0.6895 - accuracy: 0.5409 - val_loss: 0.6955 - val_accuracy: 0.5050\n",
            "Epoch 15/100\n",
            "313/313 [==============================] - 4s 14ms/step - loss: 0.6886 - accuracy: 0.5410 - val_loss: 0.6960 - val_accuracy: 0.4970\n",
            "Epoch 16/100\n",
            "313/313 [==============================] - 5s 14ms/step - loss: 0.6871 - accuracy: 0.5442 - val_loss: 0.6965 - val_accuracy: 0.4990\n",
            "Epoch 17/100\n",
            "313/313 [==============================] - 5s 15ms/step - loss: 0.6886 - accuracy: 0.5440 - val_loss: 0.6965 - val_accuracy: 0.5090\n",
            "Epoch 18/100\n",
            "313/313 [==============================] - 4s 14ms/step - loss: 0.6877 - accuracy: 0.5454 - val_loss: 0.6974 - val_accuracy: 0.5100\n",
            "Epoch 19/100\n",
            "313/313 [==============================] - 5s 15ms/step - loss: 0.6876 - accuracy: 0.5443 - val_loss: 0.6961 - val_accuracy: 0.5070\n",
            "Epoch 20/100\n",
            "313/313 [==============================] - 5s 15ms/step - loss: 0.6856 - accuracy: 0.5552 - val_loss: 0.6972 - val_accuracy: 0.5140\n",
            "Epoch 21/100\n",
            "313/313 [==============================] - 5s 15ms/step - loss: 0.6830 - accuracy: 0.5522 - val_loss: 0.6939 - val_accuracy: 0.5220\n",
            "Epoch 22/100\n",
            "313/313 [==============================] - 5s 14ms/step - loss: 0.6781 - accuracy: 0.5644 - val_loss: 0.6872 - val_accuracy: 0.5470\n",
            "Epoch 23/100\n",
            "313/313 [==============================] - 5s 15ms/step - loss: 0.6688 - accuracy: 0.5816 - val_loss: 0.6750 - val_accuracy: 0.5940\n",
            "Epoch 24/100\n",
            "313/313 [==============================] - 5s 15ms/step - loss: 0.6559 - accuracy: 0.6208 - val_loss: 0.6656 - val_accuracy: 0.6180\n",
            "Epoch 25/100\n",
            "313/313 [==============================] - 5s 14ms/step - loss: 0.6547 - accuracy: 0.6165 - val_loss: 0.6578 - val_accuracy: 0.6300\n",
            "Epoch 26/100\n",
            "313/313 [==============================] - 5s 15ms/step - loss: 0.6436 - accuracy: 0.6342 - val_loss: 0.6547 - val_accuracy: 0.6450\n",
            "Epoch 27/100\n",
            "313/313 [==============================] - 5s 15ms/step - loss: 0.6244 - accuracy: 0.6537 - val_loss: 0.6432 - val_accuracy: 0.6470\n",
            "Epoch 28/100\n",
            "313/313 [==============================] - 5s 15ms/step - loss: 0.6275 - accuracy: 0.6597 - val_loss: 0.6303 - val_accuracy: 0.6660\n",
            "Epoch 29/100\n",
            "313/313 [==============================] - 5s 15ms/step - loss: 0.6130 - accuracy: 0.6689 - val_loss: 0.6143 - val_accuracy: 0.6850\n",
            "Epoch 30/100\n",
            "313/313 [==============================] - 5s 15ms/step - loss: 0.6091 - accuracy: 0.6684 - val_loss: 0.6042 - val_accuracy: 0.7000\n",
            "Epoch 31/100\n",
            "313/313 [==============================] - 5s 15ms/step - loss: 0.6040 - accuracy: 0.6867 - val_loss: 0.6029 - val_accuracy: 0.7000\n",
            "Epoch 32/100\n",
            "313/313 [==============================] - 5s 14ms/step - loss: 0.5965 - accuracy: 0.6917 - val_loss: 0.5941 - val_accuracy: 0.7210\n",
            "Epoch 33/100\n",
            "313/313 [==============================] - 5s 15ms/step - loss: 0.5924 - accuracy: 0.7013 - val_loss: 0.5802 - val_accuracy: 0.7230\n",
            "Epoch 34/100\n",
            "313/313 [==============================] - 5s 15ms/step - loss: 0.5758 - accuracy: 0.7073 - val_loss: 0.5616 - val_accuracy: 0.7210\n",
            "Epoch 35/100\n",
            "313/313 [==============================] - 5s 14ms/step - loss: 0.5817 - accuracy: 0.7139 - val_loss: 0.5493 - val_accuracy: 0.7610\n",
            "Epoch 36/100\n",
            "313/313 [==============================] - 5s 15ms/step - loss: 0.5627 - accuracy: 0.7360 - val_loss: 0.5334 - val_accuracy: 0.7570\n",
            "Epoch 37/100\n",
            "313/313 [==============================] - 5s 15ms/step - loss: 0.5460 - accuracy: 0.7379 - val_loss: 0.5278 - val_accuracy: 0.7900\n",
            "Epoch 38/100\n",
            "313/313 [==============================] - 5s 15ms/step - loss: 0.5372 - accuracy: 0.7536 - val_loss: 0.5125 - val_accuracy: 0.7850\n",
            "Epoch 39/100\n",
            "313/313 [==============================] - 5s 15ms/step - loss: 0.5343 - accuracy: 0.7503 - val_loss: 0.5358 - val_accuracy: 0.7620\n",
            "Epoch 40/100\n",
            "313/313 [==============================] - 5s 14ms/step - loss: 0.5203 - accuracy: 0.7612 - val_loss: 0.4974 - val_accuracy: 0.7930\n",
            "Epoch 41/100\n",
            "313/313 [==============================] - 4s 14ms/step - loss: 0.5156 - accuracy: 0.7595 - val_loss: 0.4955 - val_accuracy: 0.7890\n",
            "Epoch 42/100\n",
            "313/313 [==============================] - 4s 14ms/step - loss: 0.5173 - accuracy: 0.7669 - val_loss: 0.4867 - val_accuracy: 0.8030\n",
            "Epoch 43/100\n",
            "313/313 [==============================] - 4s 14ms/step - loss: 0.4944 - accuracy: 0.7767 - val_loss: 0.4825 - val_accuracy: 0.7990\n",
            "Epoch 44/100\n",
            "313/313 [==============================] - 5s 15ms/step - loss: 0.5000 - accuracy: 0.7761 - val_loss: 0.4889 - val_accuracy: 0.7830\n",
            "Epoch 45/100\n",
            "313/313 [==============================] - 4s 14ms/step - loss: 0.4885 - accuracy: 0.7838 - val_loss: 0.4687 - val_accuracy: 0.7940\n",
            "Epoch 46/100\n",
            "313/313 [==============================] - 5s 15ms/step - loss: 0.4903 - accuracy: 0.7806 - val_loss: 0.4699 - val_accuracy: 0.7840\n",
            "Epoch 47/100\n",
            "313/313 [==============================] - 5s 15ms/step - loss: 0.4806 - accuracy: 0.7851 - val_loss: 0.4569 - val_accuracy: 0.8120\n",
            "Epoch 48/100\n",
            "313/313 [==============================] - 5s 15ms/step - loss: 0.4718 - accuracy: 0.7911 - val_loss: 0.4395 - val_accuracy: 0.8130\n",
            "Epoch 49/100\n",
            "313/313 [==============================] - 5s 15ms/step - loss: 0.4798 - accuracy: 0.7789 - val_loss: 0.4483 - val_accuracy: 0.8100\n",
            "Epoch 50/100\n",
            "313/313 [==============================] - 5s 14ms/step - loss: 0.4838 - accuracy: 0.7872 - val_loss: 0.4375 - val_accuracy: 0.8190\n",
            "Epoch 51/100\n",
            "313/313 [==============================] - 5s 15ms/step - loss: 0.4741 - accuracy: 0.7888 - val_loss: 0.4410 - val_accuracy: 0.8220\n",
            "Epoch 52/100\n",
            "313/313 [==============================] - 5s 15ms/step - loss: 0.4646 - accuracy: 0.7874 - val_loss: 0.4524 - val_accuracy: 0.8100\n",
            "Epoch 53/100\n",
            "313/313 [==============================] - 5s 15ms/step - loss: 0.4653 - accuracy: 0.7904 - val_loss: 0.4318 - val_accuracy: 0.8140\n",
            "Epoch 54/100\n",
            "313/313 [==============================] - 5s 15ms/step - loss: 0.4628 - accuracy: 0.7933 - val_loss: 0.4281 - val_accuracy: 0.8050\n",
            "Epoch 55/100\n",
            "313/313 [==============================] - 5s 15ms/step - loss: 0.4583 - accuracy: 0.7957 - val_loss: 0.4237 - val_accuracy: 0.8110\n",
            "Epoch 56/100\n",
            "313/313 [==============================] - 5s 15ms/step - loss: 0.4642 - accuracy: 0.7886 - val_loss: 0.4311 - val_accuracy: 0.8140\n",
            "Epoch 57/100\n",
            "313/313 [==============================] - 5s 15ms/step - loss: 0.4617 - accuracy: 0.7905 - val_loss: 0.4103 - val_accuracy: 0.8200\n",
            "Epoch 58/100\n",
            "313/313 [==============================] - 5s 15ms/step - loss: 0.4571 - accuracy: 0.7951 - val_loss: 0.4165 - val_accuracy: 0.8230\n",
            "Epoch 59/100\n",
            "313/313 [==============================] - 5s 15ms/step - loss: 0.4525 - accuracy: 0.7992 - val_loss: 0.4171 - val_accuracy: 0.8240\n",
            "Epoch 60/100\n",
            "313/313 [==============================] - 5s 15ms/step - loss: 0.4525 - accuracy: 0.7982 - val_loss: 0.4107 - val_accuracy: 0.8220\n",
            "Epoch 61/100\n",
            "313/313 [==============================] - 5s 15ms/step - loss: 0.4416 - accuracy: 0.8010 - val_loss: 0.4074 - val_accuracy: 0.8280\n",
            "Epoch 62/100\n",
            "313/313 [==============================] - 5s 15ms/step - loss: 0.4557 - accuracy: 0.7990 - val_loss: 0.4161 - val_accuracy: 0.8220\n",
            "Epoch 63/100\n",
            "313/313 [==============================] - 5s 15ms/step - loss: 0.4392 - accuracy: 0.8092 - val_loss: 0.4073 - val_accuracy: 0.8220\n",
            "Epoch 64/100\n",
            "313/313 [==============================] - 5s 15ms/step - loss: 0.4412 - accuracy: 0.8006 - val_loss: 0.4245 - val_accuracy: 0.8210\n",
            "Epoch 65/100\n",
            "313/313 [==============================] - 5s 15ms/step - loss: 0.4471 - accuracy: 0.7985 - val_loss: 0.3962 - val_accuracy: 0.8270\n",
            "Epoch 66/100\n",
            "313/313 [==============================] - 5s 15ms/step - loss: 0.4349 - accuracy: 0.8021 - val_loss: 0.4046 - val_accuracy: 0.8220\n",
            "Epoch 67/100\n",
            "313/313 [==============================] - 5s 15ms/step - loss: 0.4334 - accuracy: 0.8024 - val_loss: 0.4114 - val_accuracy: 0.8240\n",
            "Epoch 68/100\n",
            "313/313 [==============================] - 5s 15ms/step - loss: 0.4328 - accuracy: 0.8082 - val_loss: 0.3924 - val_accuracy: 0.8270\n",
            "Epoch 69/100\n",
            "313/313 [==============================] - 5s 15ms/step - loss: 0.4352 - accuracy: 0.8048 - val_loss: 0.4000 - val_accuracy: 0.8150\n",
            "Epoch 70/100\n",
            "313/313 [==============================] - 5s 15ms/step - loss: 0.4319 - accuracy: 0.8103 - val_loss: 0.4027 - val_accuracy: 0.8280\n",
            "Epoch 71/100\n",
            "313/313 [==============================] - 5s 15ms/step - loss: 0.4257 - accuracy: 0.8081 - val_loss: 0.4025 - val_accuracy: 0.8350\n",
            "Epoch 72/100\n",
            "313/313 [==============================] - 5s 15ms/step - loss: 0.4363 - accuracy: 0.8067 - val_loss: 0.4060 - val_accuracy: 0.8350\n",
            "Epoch 73/100\n",
            "313/313 [==============================] - 5s 15ms/step - loss: 0.4304 - accuracy: 0.8056 - val_loss: 0.4137 - val_accuracy: 0.8250\n",
            "Epoch 74/100\n",
            "313/313 [==============================] - 5s 15ms/step - loss: 0.4294 - accuracy: 0.8148 - val_loss: 0.3809 - val_accuracy: 0.8320\n",
            "Epoch 75/100\n",
            "313/313 [==============================] - 5s 15ms/step - loss: 0.4325 - accuracy: 0.8084 - val_loss: 0.3934 - val_accuracy: 0.8330\n",
            "Epoch 76/100\n",
            "313/313 [==============================] - 5s 15ms/step - loss: 0.4424 - accuracy: 0.8038 - val_loss: 0.3838 - val_accuracy: 0.8310\n",
            "Epoch 77/100\n",
            "313/313 [==============================] - 5s 15ms/step - loss: 0.4260 - accuracy: 0.8162 - val_loss: 0.4000 - val_accuracy: 0.8300\n",
            "Epoch 78/100\n",
            "313/313 [==============================] - 5s 15ms/step - loss: 0.4220 - accuracy: 0.8133 - val_loss: 0.4136 - val_accuracy: 0.8120\n",
            "Epoch 79/100\n",
            "313/313 [==============================] - 5s 15ms/step - loss: 0.4300 - accuracy: 0.8076 - val_loss: 0.3945 - val_accuracy: 0.8330\n",
            "Epoch 80/100\n",
            "313/313 [==============================] - 5s 15ms/step - loss: 0.4148 - accuracy: 0.8140 - val_loss: 0.3906 - val_accuracy: 0.8370\n",
            "Epoch 81/100\n",
            "313/313 [==============================] - 5s 15ms/step - loss: 0.4140 - accuracy: 0.8165 - val_loss: 0.3977 - val_accuracy: 0.8370\n",
            "Epoch 82/100\n",
            "313/313 [==============================] - 5s 15ms/step - loss: 0.4181 - accuracy: 0.8199 - val_loss: 0.3914 - val_accuracy: 0.8330\n",
            "Epoch 83/100\n",
            "313/313 [==============================] - 5s 15ms/step - loss: 0.4151 - accuracy: 0.8204 - val_loss: 0.3853 - val_accuracy: 0.8310\n",
            "Epoch 84/100\n",
            "313/313 [==============================] - 5s 15ms/step - loss: 0.4190 - accuracy: 0.8117 - val_loss: 0.3952 - val_accuracy: 0.8250\n",
            "Epoch 85/100\n",
            "313/313 [==============================] - 5s 15ms/step - loss: 0.4277 - accuracy: 0.8124 - val_loss: 0.3846 - val_accuracy: 0.8290\n",
            "Epoch 86/100\n",
            "313/313 [==============================] - 5s 15ms/step - loss: 0.4244 - accuracy: 0.8097 - val_loss: 0.3815 - val_accuracy: 0.8410\n",
            "Epoch 87/100\n",
            "313/313 [==============================] - 5s 15ms/step - loss: 0.4166 - accuracy: 0.8186 - val_loss: 0.3920 - val_accuracy: 0.8420\n",
            "Epoch 88/100\n",
            "313/313 [==============================] - 5s 15ms/step - loss: 0.4126 - accuracy: 0.8201 - val_loss: 0.3956 - val_accuracy: 0.8360\n",
            "Epoch 89/100\n",
            "313/313 [==============================] - 5s 15ms/step - loss: 0.4032 - accuracy: 0.8235 - val_loss: 0.3760 - val_accuracy: 0.8320\n",
            "Epoch 90/100\n",
            "313/313 [==============================] - 5s 15ms/step - loss: 0.4198 - accuracy: 0.8078 - val_loss: 0.3898 - val_accuracy: 0.8320\n",
            "Epoch 91/100\n",
            "313/313 [==============================] - 5s 15ms/step - loss: 0.4226 - accuracy: 0.8174 - val_loss: 0.4001 - val_accuracy: 0.8370\n",
            "Epoch 92/100\n",
            "313/313 [==============================] - 5s 15ms/step - loss: 0.4192 - accuracy: 0.8108 - val_loss: 0.3880 - val_accuracy: 0.8420\n",
            "Epoch 93/100\n",
            "313/313 [==============================] - 5s 15ms/step - loss: 0.4094 - accuracy: 0.8193 - val_loss: 0.3890 - val_accuracy: 0.8360\n",
            "Epoch 94/100\n",
            "313/313 [==============================] - 5s 15ms/step - loss: 0.4014 - accuracy: 0.8223 - val_loss: 0.3835 - val_accuracy: 0.8380\n",
            "Epoch 95/100\n",
            "313/313 [==============================] - 5s 15ms/step - loss: 0.4020 - accuracy: 0.8239 - val_loss: 0.3944 - val_accuracy: 0.8360\n",
            "Epoch 96/100\n",
            "313/313 [==============================] - 5s 15ms/step - loss: 0.4106 - accuracy: 0.8188 - val_loss: 0.3828 - val_accuracy: 0.8430\n",
            "Epoch 97/100\n",
            "313/313 [==============================] - 5s 15ms/step - loss: 0.4219 - accuracy: 0.8165 - val_loss: 0.4029 - val_accuracy: 0.8360\n",
            "Epoch 98/100\n",
            "313/313 [==============================] - 5s 15ms/step - loss: 0.4120 - accuracy: 0.8175 - val_loss: 0.3983 - val_accuracy: 0.8420\n",
            "Epoch 99/100\n",
            "313/313 [==============================] - 5s 15ms/step - loss: 0.4229 - accuracy: 0.8142 - val_loss: 0.3890 - val_accuracy: 0.8390\n",
            "Epoch 100/100\n",
            "313/313 [==============================] - 5s 15ms/step - loss: 0.4079 - accuracy: 0.8147 - val_loss: 0.3885 - val_accuracy: 0.8370\n"
          ],
          "name": "stdout"
        }
      ]
    },
    {
      "cell_type": "code",
      "metadata": {
        "colab": {
          "base_uri": "https://localhost:8080/",
          "height": 747
        },
        "id": "XH82xZex-ce0",
        "outputId": "9bdc89af-1dc5-4dfd-a153-857667e32fbe"
      },
      "source": [
        "import matplotlib.pyplot as plt\n",
        "%matplotlib inline\n",
        "print(history.history.keys())\n",
        "# summarize history for accuracy\n",
        "plt.figure(figsize=(12,12))\n",
        "plt.plot(history.history['accuracy'])\n",
        "plt.plot(history.history['val_accuracy'])\n",
        "plt.title('model accuracy')\n",
        "plt.ylabel('accuracy')\n",
        "plt.xlabel('epoch')\n",
        "plt.legend(['train', 'test'], loc='upper left')\n",
        "plt.show()"
      ],
      "execution_count": 331,
      "outputs": [
        {
          "output_type": "stream",
          "text": [
            "dict_keys(['loss', 'accuracy', 'val_loss', 'val_accuracy'])\n"
          ],
          "name": "stdout"
        },
        {
          "output_type": "display_data",
          "data": {
            "image/png": "[encoded data removed]",
            "text/plain": [
              "<Figure size 864x864 with 1 Axes>"
            ]
          },
          "metadata": {
            "tags": [],
            "needs_background": "light"
          }
        }
      ]
    },
    {
      "cell_type": "code",
      "metadata": {
        "colab": {
          "base_uri": "https://localhost:8080/"
        },
        "id": "_qnRZ4uw-y85",
        "outputId": "b76ea910-286f-4e28-b6f9-b8ea4ee894fb"
      },
      "source": [
        "test_data[0]"
      ],
      "execution_count": 219,
      "outputs": [
        {
          "output_type": "execute_result",
          "data": {
            "text/plain": [
              "(['Mary',\n",
              "  'got',\n",
              "  'the',\n",
              "  'milk',\n",
              "  'there',\n",
              "  '.',\n",
              "  'John',\n",
              "  'moved',\n",
              "  'to',\n",
              "  'the',\n",
              "  'bedroom',\n",
              "  '.'],\n",
              " ['Is', 'John', 'in', 'the', 'kitchen', '?'],\n",
              " 'no')"
            ]
          },
          "metadata": {
            "tags": []
          },
          "execution_count": 219
        }
      ]
    },
    {
      "cell_type": "code",
      "metadata": {
        "id": "Z3d8vwSZ-3wl"
      },
      "source": [
        "results = model.predict([test_padded_sentences, test_padded_questions])"
      ],
      "execution_count": 222,
      "outputs": []
    },
    {
      "cell_type": "code",
      "metadata": {
        "colab": {
          "base_uri": "https://localhost:8080/"
        },
        "id": "nsiqTQqH_SEY",
        "outputId": "120cd960-6541-4636-d1af-54e19cfe4d13"
      },
      "source": [
        "np.argmax(results[0])"
      ],
      "execution_count": 225,
      "outputs": [
        {
          "output_type": "execute_result",
          "data": {
            "text/plain": [
              "0"
            ]
          },
          "metadata": {
            "tags": []
          },
          "execution_count": 225
        }
      ]
    },
    {
      "cell_type": "code",
      "metadata": {
        "colab": {
          "base_uri": "https://localhost:8080/"
        },
        "id": "7tDrOZBQ_vD_",
        "outputId": "741603a4-d601-45bc-efb2-cf0721a7b594"
      },
      "source": [
        "np.argmax(results[1])"
      ],
      "execution_count": 227,
      "outputs": [
        {
          "output_type": "execute_result",
          "data": {
            "text/plain": [
              "0"
            ]
          },
          "metadata": {
            "tags": []
          },
          "execution_count": 227
        }
      ]
    },
    {
      "cell_type": "code",
      "metadata": {
        "colab": {
          "base_uri": "https://localhost:8080/"
        },
        "id": "LKGNU0Nt_yeC",
        "outputId": "543dbc29-e277-46fa-97db-c45dee9f7ef3"
      },
      "source": [
        "np.argmax(results[2])"
      ],
      "execution_count": 228,
      "outputs": [
        {
          "output_type": "execute_result",
          "data": {
            "text/plain": [
              "1"
            ]
          },
          "metadata": {
            "tags": []
          },
          "execution_count": 228
        }
      ]
    }
  ]
}
